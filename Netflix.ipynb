{
 "cells": [
  {
   "cell_type": "markdown",
   "metadata": {},
   "source": [
    "## Análise de Dados usando o PySpark\n",
    "\n",
    "### Neste notebook, foi feita uma analise de uma base de dados do Kaggle, sobre filmes e programas da Netflix.\n",
    "\n",
    "Nesta analise contem:\n",
    "\n",
    "- Valores unicos dos tipos de filmes e programas.\n",
    "- Filmes que lançaram em 2020 no Brasil.\n",
    "- Filmes que duram mais de 1 hora no Brasil.\n",
    "- O total de filmes na Netflix.\n",
    "- O total de programas de TV na Netflix.\n",
    "- Total de filmes e progromas de TV que foram adicionados depois de 01/01/1997, foi quando a Netflix foi criada.\n",
    "- Total de temporadas por série.\n",
    "- A melhor série."
   ]
  },
  {
   "cell_type": "code",
   "execution_count": 1,
   "metadata": {},
   "outputs": [],
   "source": [
    "# Importando o Findspark que permite importar o Pyspark como uma biblioteca do Python\n",
    "import findspark"
   ]
  },
  {
   "cell_type": "code",
   "execution_count": 2,
   "metadata": {},
   "outputs": [],
   "source": [
    "# Importando o PySpark\n",
    "import pyspark"
   ]
  },
  {
   "cell_type": "code",
   "execution_count": 3,
   "metadata": {},
   "outputs": [],
   "source": [
    "# Importando todas as funções PySpark SQL\n",
    "from pyspark.sql.functions import *"
   ]
  },
  {
   "cell_type": "code",
   "execution_count": 4,
   "metadata": {},
   "outputs": [],
   "source": [
    "# Importando o SparkSession para trabalharmos com DataFrame\n",
    "from pyspark.sql import SparkSession\n",
    "spark = SparkSession.builder.getOrCreate()"
   ]
  },
  {
   "cell_type": "markdown",
   "metadata": {},
   "source": [
    "#### Importando a base de dados"
   ]
  },
  {
   "cell_type": "code",
   "execution_count": 5,
   "metadata": {},
   "outputs": [],
   "source": [
    "df = spark.read.csv(\"netflix_titles.csv\", header=True, inferSchema=True)"
   ]
  },
  {
   "cell_type": "markdown",
   "metadata": {},
   "source": [
    "#### Colunas do Dataframe"
   ]
  },
  {
   "cell_type": "code",
   "execution_count": 6,
   "metadata": {},
   "outputs": [
    {
     "data": {
      "text/plain": [
       "['show_id',\n",
       " 'type',\n",
       " 'title',\n",
       " 'director',\n",
       " 'cast',\n",
       " 'country',\n",
       " 'date_added',\n",
       " 'release_year',\n",
       " 'rating',\n",
       " 'duration',\n",
       " 'listed_in',\n",
       " 'description']"
      ]
     },
     "execution_count": 6,
     "metadata": {},
     "output_type": "execute_result"
    }
   ],
   "source": [
    "df.columns"
   ]
  },
  {
   "cell_type": "markdown",
   "metadata": {},
   "source": [
    "### Limpeza e preparação dos dados"
   ]
  },
  {
   "cell_type": "code",
   "execution_count": 7,
   "metadata": {},
   "outputs": [
    {
     "name": "stdout",
     "output_type": "stream",
     "text": [
      "+-------+-----+--------------------+--------------------+-----------------+------------+---------+\n",
      "|   type|title|            director|             country|       date_added|release_year| duration|\n",
      "+-------+-----+--------------------+--------------------+-----------------+------------+---------+\n",
      "|TV Show|   3%|                null|              Brazil|  August 14, 2020|        2020|4 Seasons|\n",
      "|  Movie| 7:19|   Jorge Michel Grau|              Mexico|December 23, 2016|        2016|   93 min|\n",
      "|  Movie|23:59|        Gilbert Chan|           Singapore|December 20, 2018|        2011|   78 min|\n",
      "|  Movie|    9|         Shane Acker|       United States|November 16, 2017|        2009|   80 min|\n",
      "|  Movie|   21|      Robert Luketic|       United States|  January 1, 2020|        2008|  123 min|\n",
      "|TV Show|   46|         Serdar Akar|              Turkey|     July 1, 2017|        2016| 1 Season|\n",
      "|  Movie|  122|     Yasir Al Yasiri|               Egypt|     June 1, 2020|        2019|   95 min|\n",
      "|  Movie|  187|      Kevin Reynolds|       United States| November 1, 2019|        1997|  119 min|\n",
      "|  Movie|  706|       Shravan Kumar|               India|    April 1, 2019|        2019|  118 min|\n",
      "|  Movie| 1920|        Vikram Bhatt|               India|December 15, 2017|        2008|  143 min|\n",
      "|  Movie| 1922|        Zak Hilditch|       United States| October 20, 2017|        2017|  103 min|\n",
      "|TV Show| 1983|                null|Poland, United St...|November 30, 2018|        2018| 1 Season|\n",
      "|TV Show| 1994|Diego Enrique Osorno|              Mexico|     May 17, 2019|        2019| 1 Season|\n",
      "|  Movie|2,215| Nottapon Boonprakob|            Thailand|    March 1, 2019|        2018|   89 min|\n",
      "|  Movie| 3022|          John Suits|       United States|   March 19, 2020|        2019|   91 min|\n",
      "+-------+-----+--------------------+--------------------+-----------------+------------+---------+\n",
      "only showing top 15 rows\n",
      "\n"
     ]
    }
   ],
   "source": [
    "# Apagando colunas que não iremos utilizar \n",
    "df1 = df.drop(\"show_id\", \"cast\", \"rating\", \"listed_in\", \"description\")\n",
    "df1.show(15)"
   ]
  },
  {
   "cell_type": "code",
   "execution_count": 8,
   "metadata": {},
   "outputs": [
    {
     "name": "stdout",
     "output_type": "stream",
     "text": [
      "+-------+------+--------------------+--------------------+-----------------+--------------+---------+\n",
      "|   tipo|titulo|             diretor|                pais|         data_add|ano_lancamento|  duracao|\n",
      "+-------+------+--------------------+--------------------+-----------------+--------------+---------+\n",
      "|TV Show|    3%|                null|              Brazil|  August 14, 2020|          2020|4 Seasons|\n",
      "|  Movie|  7:19|   Jorge Michel Grau|              Mexico|December 23, 2016|          2016|   93 min|\n",
      "|  Movie| 23:59|        Gilbert Chan|           Singapore|December 20, 2018|          2011|   78 min|\n",
      "|  Movie|     9|         Shane Acker|       United States|November 16, 2017|          2009|   80 min|\n",
      "|  Movie|    21|      Robert Luketic|       United States|  January 1, 2020|          2008|  123 min|\n",
      "|TV Show|    46|         Serdar Akar|              Turkey|     July 1, 2017|          2016| 1 Season|\n",
      "|  Movie|   122|     Yasir Al Yasiri|               Egypt|     June 1, 2020|          2019|   95 min|\n",
      "|  Movie|   187|      Kevin Reynolds|       United States| November 1, 2019|          1997|  119 min|\n",
      "|  Movie|   706|       Shravan Kumar|               India|    April 1, 2019|          2019|  118 min|\n",
      "|  Movie|  1920|        Vikram Bhatt|               India|December 15, 2017|          2008|  143 min|\n",
      "|  Movie|  1922|        Zak Hilditch|       United States| October 20, 2017|          2017|  103 min|\n",
      "|TV Show|  1983|                null|Poland, United St...|November 30, 2018|          2018| 1 Season|\n",
      "|TV Show|  1994|Diego Enrique Osorno|              Mexico|     May 17, 2019|          2019| 1 Season|\n",
      "|  Movie| 2,215| Nottapon Boonprakob|            Thailand|    March 1, 2019|          2018|   89 min|\n",
      "|  Movie|  3022|          John Suits|       United States|   March 19, 2020|          2019|   91 min|\n",
      "+-------+------+--------------------+--------------------+-----------------+--------------+---------+\n",
      "only showing top 15 rows\n",
      "\n"
     ]
    }
   ],
   "source": [
    "# Renomeando as colunas\n",
    "df2 = df1.select(col(\"type\").alias(\"tipo\"), col(\"title\").alias(\"titulo\"), col(\"director\").alias(\"diretor\"), \n",
    "               col(\"country\").alias(\"pais\"), col(\"date_added\").alias(\"data_add\"),\n",
    "               col(\"release_year\").alias(\"ano_lancamento\"), \n",
    "               col(\"duration\").alias(\"duracao\"))\n",
    "df2.show(15)"
   ]
  },
  {
   "cell_type": "code",
   "execution_count": 9,
   "metadata": {},
   "outputs": [
    {
     "name": "stdout",
     "output_type": "stream",
     "text": [
      "+-------+------+--------------------+--------------------+-----------------+--------------+--------+\n",
      "|   tipo|titulo|             diretor|                pais|         data_add|ano_lancamento| duracao|\n",
      "+-------+------+--------------------+--------------------+-----------------+--------------+--------+\n",
      "|  Movie|  7:19|   Jorge Michel Grau|              Mexico|December 23, 2016|          2016|  93 min|\n",
      "|  Movie| 23:59|        Gilbert Chan|           Singapore|December 20, 2018|          2011|  78 min|\n",
      "|  Movie|     9|         Shane Acker|       United States|November 16, 2017|          2009|  80 min|\n",
      "|  Movie|    21|      Robert Luketic|       United States|  January 1, 2020|          2008| 123 min|\n",
      "|TV Show|    46|         Serdar Akar|              Turkey|     July 1, 2017|          2016|1 Season|\n",
      "|  Movie|   122|     Yasir Al Yasiri|               Egypt|     June 1, 2020|          2019|  95 min|\n",
      "|  Movie|   187|      Kevin Reynolds|       United States| November 1, 2019|          1997| 119 min|\n",
      "|  Movie|   706|       Shravan Kumar|               India|    April 1, 2019|          2019| 118 min|\n",
      "|  Movie|  1920|        Vikram Bhatt|               India|December 15, 2017|          2008| 143 min|\n",
      "|  Movie|  1922|        Zak Hilditch|       United States| October 20, 2017|          2017| 103 min|\n",
      "|TV Show|  1994|Diego Enrique Osorno|              Mexico|     May 17, 2019|          2019|1 Season|\n",
      "|  Movie| 2,215| Nottapon Boonprakob|            Thailand|    March 1, 2019|          2018|  89 min|\n",
      "|  Movie|  3022|          John Suits|       United States|   March 19, 2020|          2019|  91 min|\n",
      "|  Movie|Oct-01|      Kunle Afolayan|             Nigeria|September 1, 2019|          2014| 149 min|\n",
      "|  Movie|22-Jul|     Paul Greengrass|Norway, Iceland, ...| October 10, 2018|          2018| 144 min|\n",
      "+-------+------+--------------------+--------------------+-----------------+--------------+--------+\n",
      "only showing top 15 rows\n",
      "\n"
     ]
    }
   ],
   "source": [
    "# Apaga os campos de todas as colunas que possuem valores nulos\n",
    "df3 = df2.select(\"tipo\", \"titulo\", \"diretor\", \"pais\", \"data_add\", \"ano_lancamento\", \"duracao\").na.drop(\"any\")\n",
    "\n",
    "df3.show(15)"
   ]
  },
  {
   "cell_type": "markdown",
   "metadata": {},
   "source": [
    "### Exploração dos Dados"
   ]
  },
  {
   "cell_type": "code",
   "execution_count": 10,
   "metadata": {},
   "outputs": [
    {
     "data": {
      "text/plain": [
       "DataFrame[titulo: string, titulo: string, pais: string, ano_lancamento: string]"
      ]
     },
     "execution_count": 10,
     "metadata": {},
     "output_type": "execute_result"
    }
   ],
   "source": [
    "# Tipo primitivo dos dados\n",
    "df3.select(\"titulo\", \"titulo\", \"pais\", \"ano_lancamento\")"
   ]
  },
  {
   "cell_type": "code",
   "execution_count": 11,
   "metadata": {},
   "outputs": [
    {
     "name": "stdout",
     "output_type": "stream",
     "text": [
      "+-------+\n",
      "|   tipo|\n",
      "+-------+\n",
      "|TV Show|\n",
      "|  Movie|\n",
      "+-------+\n",
      "\n"
     ]
    }
   ],
   "source": [
    "# Valores unicos da coluna Tipo\n",
    "df3.select(\"tipo\").distinct().show()"
   ]
  },
  {
   "cell_type": "code",
   "execution_count": 12,
   "metadata": {},
   "outputs": [
    {
     "name": "stdout",
     "output_type": "stream",
     "text": [
      "+--------------------+------+--------------+\n",
      "|              titulo|  pais|ano_lancamento|\n",
      "+--------------------+------+--------------+\n",
      "|     A Queen Is Born|Brazil|          2020|\n",
      "|Afonso Padilha: C...|Brazil|          2020|\n",
      "|Anitta: Made In H...|Brazil|          2020|\n",
      "|Dating Around: Br...|Brazil|          2020|\n",
      "|          Double Dad|Brazil|          2020|\n",
      "|Just Another Chri...|Brazil|          2020|\n",
      "|Luccas Neto em: A...|Brazil|          2020|\n",
      "|Maurício Meirelle...|Brazil|          2020|\n",
      "|        Rich in Love|Brazil|          2020|\n",
      "|The Beginning of ...|Brazil|          2020|\n",
      "|Thiago Ventura: P...|Brazil|          2020|\n",
      "+--------------------+------+--------------+\n",
      "\n"
     ]
    }
   ],
   "source": [
    "# Filmes que lançaram em 2020 no Brasil\n",
    "df3.select(\"titulo\", \"pais\", \"ano_lancamento\").where(\"pais == 'Brazil' and ano_lancamento == '2020'\").show()"
   ]
  },
  {
   "cell_type": "code",
   "execution_count": 13,
   "metadata": {},
   "outputs": [
    {
     "name": "stdout",
     "output_type": "stream",
     "text": [
      "+--------------------+------+-------+\n",
      "|              titulo|  pais|duracao|\n",
      "+--------------------+------+-------+\n",
      "|Afonso Padilha: C...|Brazil| 63 min|\n",
      "|        Alice Junior|Brazil| 87 min|\n",
      "|All The Reasons T...|Brazil| 90 min|\n",
      "|      Back and Forth|Brazil| 95 min|\n",
      "|   Boy and the World|Brazil| 80 min|\n",
      "|City of God: 10 Y...|Brazil| 69 min|\n",
      "|  Couples Counseling|Brazil| 88 min|\n",
      "|       DJ Cinderella|Brazil| 95 min|\n",
      "|Edmilson Filho: N...|Brazil| 80 min|\n",
      "|Felipe Neto: My L...|Brazil| 91 min|\n",
      "|Fishtronaut: The ...|Brazil| 78 min|\n",
      "|       Forever Chape|Brazil| 74 min|\n",
      "|               Jonas|Brazil| 97 min|\n",
      "|            Love.com|Brazil| 92 min|\n",
      "|Luccas Neto em: A...|Brazil| 81 min|\n",
      "|Luccas Neto in: S...|Brazil| 87 min|\n",
      "|Luccas Neto in: T...|Brazil| 71 min|\n",
      "|Marco Luque: Tamo...|Brazil| 73 min|\n",
      "|Maurício Meirelle...|Brazil| 63 min|\n",
      "|   Nothing to Lose 2|Brazil| 97 min|\n",
      "+--------------------+------+-------+\n",
      "only showing top 20 rows\n",
      "\n"
     ]
    }
   ],
   "source": [
    "# Filmes que duram mais que 1 hora\n",
    "df3.select(\"titulo\", \"pais\", \"duracao\").where(\"duracao > '60' and pais == 'Brazil'\").show()"
   ]
  },
  {
   "cell_type": "code",
   "execution_count": 14,
   "metadata": {},
   "outputs": [
    {
     "data": {
      "text/plain": [
       "5023"
      ]
     },
     "execution_count": 14,
     "metadata": {},
     "output_type": "execute_result"
    }
   ],
   "source": [
    "# O total de filmes na Netflix\n",
    "df3.select(\"tipo\").where(\"tipo == 'Movie'\").count()"
   ]
  },
  {
   "cell_type": "code",
   "execution_count": 15,
   "metadata": {},
   "outputs": [
    {
     "data": {
      "text/plain": [
       "169"
      ]
     },
     "execution_count": 15,
     "metadata": {},
     "output_type": "execute_result"
    }
   ],
   "source": [
    "# O total de programas de TV na Netflix\n",
    "df3.select(\"tipo\").where(\"tipo == 'TV Show'\").count()"
   ]
  },
  {
   "cell_type": "code",
   "execution_count": 16,
   "metadata": {},
   "outputs": [
    {
     "data": {
      "text/plain": [
       "3527"
      ]
     },
     "execution_count": 16,
     "metadata": {},
     "output_type": "execute_result"
    }
   ],
   "source": [
    "# Total de filmes e progromas de TV que foram adicionados depois de 01/01/1997, foi quando a Netflix foi criada\n",
    "df3.select(\"titulo\", \"pais\", \"data_add\").where(\"data_add > 'January 1, 1997'\").count()"
   ]
  },
  {
   "cell_type": "code",
   "execution_count": 17,
   "metadata": {},
   "outputs": [
    {
     "name": "stdout",
     "output_type": "stream",
     "text": [
      "Quantas séries da Netflix tem ou teve 1 temporada: 127\n",
      "Quantas séries da Netflix tem ou teve 2 temporadas: 16\n",
      "Quantas séries da Netflix tem ou teve 3 temporadas: 5\n",
      "Quantas séries da Netflix tem ou teve 4 temporadas: 4\n",
      "Quantas séries da Netflix tem ou teve 5 temporadas: 7\n",
      "Quantas séries da Netflix tem ou teve 6 temporadas: 3\n",
      "Quantas séries da Netflix tem ou teve 7 temporadas: 0\n",
      "Quantas séries da Netflix tem ou teve 8 temporadas: 4\n",
      "Quantas séries da Netflix tem ou teve 9 temporadas: 2\n",
      "Quantas séries da Netflix tem ou teve 10 temporadas: 0\n"
     ]
    }
   ],
   "source": [
    "# Total de temporadas por série\n",
    "print(\"Quantas séries da Netflix tem ou teve 1 temporada:\", end=\" \")\n",
    "print(df3.select(\"duracao\").where(f\"duracao == '1 Season'\").count())\n",
    "for temp in range(2, 11):\n",
    "    print(f\"Quantas séries da Netflix tem ou teve {temp} temporadas:\", end=\" \")\n",
    "    print(df3.select(\"duracao\").where(f\"duracao == '{temp} Seasons'\").count())\n",
    "    "
   ]
  },
  {
   "cell_type": "code",
   "execution_count": 18,
   "metadata": {},
   "outputs": [
    {
     "name": "stdout",
     "output_type": "stream",
     "text": [
      "+------------+----------+\n",
      "|      titulo|   duracao|\n",
      "+------------+----------+\n",
      "|Supernatural|15 Seasons|\n",
      "+------------+----------+\n",
      "\n"
     ]
    }
   ],
   "source": [
    "# Além de ser a unica série que teve 15 temporadas na Netflix, é a melhor série que existe!\n",
    "# Agora o Supernatural tem na Prime Video.\n",
    "df3.select(\"titulo\", \"duracao\").where(\"duracao == '15 Seasons'\").show()"
   ]
  }
 ],
 "metadata": {
  "kernelspec": {
   "display_name": "Python 3",
   "language": "python",
   "name": "python3"
  },
  "language_info": {
   "codemirror_mode": {
    "name": "ipython",
    "version": 3
   },
   "file_extension": ".py",
   "mimetype": "text/x-python",
   "name": "python",
   "nbconvert_exporter": "python",
   "pygments_lexer": "ipython3",
   "version": "3.8.5"
  }
 },
 "nbformat": 4,
 "nbformat_minor": 4
}
